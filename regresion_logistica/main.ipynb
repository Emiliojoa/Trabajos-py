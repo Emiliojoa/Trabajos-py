{
 "cells": [
  {
   "cell_type": "markdown",
   "id": "2ad5dc22",
   "metadata": {},
   "source": [
    "## 1. Investiga un caso en la vida real donde podremos aplicar un modelo de Regresión Logística. Fundamenta."
   ]
  },
  {
   "cell_type": "markdown",
   "id": "5174db4c",
   "metadata": {},
   "source": [
    "#  Caso de aplicación de Regresión Logística: **Cobro**\n",
    "\n",
    "##  Descripción del caso\n",
    "El objetivo es predecir si una persona **realiza o no realiza un cobro** (por ejemplo, de un subsidio o beneficio social). Esta decisión puede depender de características personales y laborales.\n",
    "\n",
    "##  Variables del modelo\n",
    "\n",
    "- **Variables independientes (predictoras):**\n",
    "  - `Edad`: número de años de la persona.\n",
    "  - `Sexo`: masculino o femenino.\n",
    "  - `Jerarquía`: nivel del cargo o puesto que ocupa (por ejemplo, operario, administrativo, directivo).\n",
    "  - `Trabajo`: si la persona trabaja actualmente (`1` para sí, `0` para no).\n",
    "\n",
    "- **Variable dependiente (respuesta):**\n",
    "  - `Cobro`: si la persona realiza el cobro (`1`) o no (`0`).\n",
    "\n",
    "##  Aplicación de la regresión logística\n",
    "La regresión logística se utiliza para predecir una variable binaria (Cobro: sí o no) a partir de un conjunto de variables independientes. En este caso, permite estimar la \n",
    "**probabilidad de que una persona reciba un cobro** según sus características.\n",
    "\n",
    "\n",
    "La regresión logística es el modelo adecuado porque:\n",
    "- El resultado es binario (1 o 0).\n",
    "- Permite interpretar la influencia de cada variable en la probabilidad de cobro.\n",
    "- Es útil para tomar decisiones o hacer evaluaciones en políticas sociales o económicas.\n",
    "\n"
   ]
  }
 ],
 "metadata": {
  "language_info": {
   "name": "python"
  }
 },
 "nbformat": 4,
 "nbformat_minor": 5
}
